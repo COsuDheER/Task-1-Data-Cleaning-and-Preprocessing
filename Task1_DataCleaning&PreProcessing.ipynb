{
 "cells": [
  {
   "cell_type": "code",
   "execution_count": 1,
   "id": "66f1e7ae-933a-4753-baa6-72134610b417",
   "metadata": {},
   "outputs": [],
   "source": [
    "import pandas as pd #for tasks related to data : import, export, manipulation\n",
    "import numpy as np #for numerical tasks\n",
    "import matplotlib.pyplot as plt #for data visualization\n",
    "import seaborn as sns #multidimensional plot"
   ]
  },
  {
   "cell_type": "code",
   "execution_count": 3,
   "id": "3b7b264a-73b3-4dbc-bcac-d6820a037ed5",
   "metadata": {},
   "outputs": [],
   "source": [
    "df = pd.read_csv('C:/Users/Home/Downloads/Titanic-Dataset.csv')"
   ]
  },
  {
   "cell_type": "code",
   "execution_count": 4,
   "id": "1a06bc13-de45-434d-90ed-773ee97882de",
   "metadata": {},
   "outputs": [
    {
     "data": {
      "text/html": [
       "<div>\n",
       "<style scoped>\n",
       "    .dataframe tbody tr th:only-of-type {\n",
       "        vertical-align: middle;\n",
       "    }\n",
       "\n",
       "    .dataframe tbody tr th {\n",
       "        vertical-align: top;\n",
       "    }\n",
       "\n",
       "    .dataframe thead th {\n",
       "        text-align: right;\n",
       "    }\n",
       "</style>\n",
       "<table border=\"1\" class=\"dataframe\">\n",
       "  <thead>\n",
       "    <tr style=\"text-align: right;\">\n",
       "      <th></th>\n",
       "      <th>PassengerId</th>\n",
       "      <th>Survived</th>\n",
       "      <th>Pclass</th>\n",
       "      <th>Name</th>\n",
       "      <th>Sex</th>\n",
       "      <th>Age</th>\n",
       "      <th>SibSp</th>\n",
       "      <th>Parch</th>\n",
       "      <th>Ticket</th>\n",
       "      <th>Fare</th>\n",
       "      <th>Cabin</th>\n",
       "      <th>Embarked</th>\n",
       "    </tr>\n",
       "  </thead>\n",
       "  <tbody>\n",
       "    <tr>\n",
       "      <th>0</th>\n",
       "      <td>1</td>\n",
       "      <td>0</td>\n",
       "      <td>3</td>\n",
       "      <td>Braund, Mr. Owen Harris</td>\n",
       "      <td>male</td>\n",
       "      <td>22.0</td>\n",
       "      <td>1</td>\n",
       "      <td>0</td>\n",
       "      <td>A/5 21171</td>\n",
       "      <td>7.2500</td>\n",
       "      <td>NaN</td>\n",
       "      <td>S</td>\n",
       "    </tr>\n",
       "    <tr>\n",
       "      <th>1</th>\n",
       "      <td>2</td>\n",
       "      <td>1</td>\n",
       "      <td>1</td>\n",
       "      <td>Cumings, Mrs. John Bradley (Florence Briggs Th...</td>\n",
       "      <td>female</td>\n",
       "      <td>38.0</td>\n",
       "      <td>1</td>\n",
       "      <td>0</td>\n",
       "      <td>PC 17599</td>\n",
       "      <td>71.2833</td>\n",
       "      <td>C85</td>\n",
       "      <td>C</td>\n",
       "    </tr>\n",
       "    <tr>\n",
       "      <th>2</th>\n",
       "      <td>3</td>\n",
       "      <td>1</td>\n",
       "      <td>3</td>\n",
       "      <td>Heikkinen, Miss. Laina</td>\n",
       "      <td>female</td>\n",
       "      <td>26.0</td>\n",
       "      <td>0</td>\n",
       "      <td>0</td>\n",
       "      <td>STON/O2. 3101282</td>\n",
       "      <td>7.9250</td>\n",
       "      <td>NaN</td>\n",
       "      <td>S</td>\n",
       "    </tr>\n",
       "    <tr>\n",
       "      <th>3</th>\n",
       "      <td>4</td>\n",
       "      <td>1</td>\n",
       "      <td>1</td>\n",
       "      <td>Futrelle, Mrs. Jacques Heath (Lily May Peel)</td>\n",
       "      <td>female</td>\n",
       "      <td>35.0</td>\n",
       "      <td>1</td>\n",
       "      <td>0</td>\n",
       "      <td>113803</td>\n",
       "      <td>53.1000</td>\n",
       "      <td>C123</td>\n",
       "      <td>S</td>\n",
       "    </tr>\n",
       "    <tr>\n",
       "      <th>4</th>\n",
       "      <td>5</td>\n",
       "      <td>0</td>\n",
       "      <td>3</td>\n",
       "      <td>Allen, Mr. William Henry</td>\n",
       "      <td>male</td>\n",
       "      <td>35.0</td>\n",
       "      <td>0</td>\n",
       "      <td>0</td>\n",
       "      <td>373450</td>\n",
       "      <td>8.0500</td>\n",
       "      <td>NaN</td>\n",
       "      <td>S</td>\n",
       "    </tr>\n",
       "  </tbody>\n",
       "</table>\n",
       "</div>"
      ],
      "text/plain": [
       "   PassengerId  Survived  Pclass  \\\n",
       "0            1         0       3   \n",
       "1            2         1       1   \n",
       "2            3         1       3   \n",
       "3            4         1       1   \n",
       "4            5         0       3   \n",
       "\n",
       "                                                Name     Sex   Age  SibSp  \\\n",
       "0                            Braund, Mr. Owen Harris    male  22.0      1   \n",
       "1  Cumings, Mrs. John Bradley (Florence Briggs Th...  female  38.0      1   \n",
       "2                             Heikkinen, Miss. Laina  female  26.0      0   \n",
       "3       Futrelle, Mrs. Jacques Heath (Lily May Peel)  female  35.0      1   \n",
       "4                           Allen, Mr. William Henry    male  35.0      0   \n",
       "\n",
       "   Parch            Ticket     Fare Cabin Embarked  \n",
       "0      0         A/5 21171   7.2500   NaN        S  \n",
       "1      0          PC 17599  71.2833   C85        C  \n",
       "2      0  STON/O2. 3101282   7.9250   NaN        S  \n",
       "3      0            113803  53.1000  C123        S  \n",
       "4      0            373450   8.0500   NaN        S  "
      ]
     },
     "execution_count": 4,
     "metadata": {},
     "output_type": "execute_result"
    }
   ],
   "source": [
    "df.head()"
   ]
  },
  {
   "cell_type": "code",
   "execution_count": 5,
   "id": "1da7d732-f91f-4766-85f3-1831567d9a5e",
   "metadata": {},
   "outputs": [
    {
     "data": {
      "text/html": [
       "<div>\n",
       "<style scoped>\n",
       "    .dataframe tbody tr th:only-of-type {\n",
       "        vertical-align: middle;\n",
       "    }\n",
       "\n",
       "    .dataframe tbody tr th {\n",
       "        vertical-align: top;\n",
       "    }\n",
       "\n",
       "    .dataframe thead th {\n",
       "        text-align: right;\n",
       "    }\n",
       "</style>\n",
       "<table border=\"1\" class=\"dataframe\">\n",
       "  <thead>\n",
       "    <tr style=\"text-align: right;\">\n",
       "      <th></th>\n",
       "      <th>PassengerId</th>\n",
       "      <th>Survived</th>\n",
       "      <th>Pclass</th>\n",
       "      <th>Name</th>\n",
       "      <th>Sex</th>\n",
       "      <th>Age</th>\n",
       "      <th>SibSp</th>\n",
       "      <th>Parch</th>\n",
       "      <th>Ticket</th>\n",
       "      <th>Fare</th>\n",
       "      <th>Cabin</th>\n",
       "      <th>Embarked</th>\n",
       "    </tr>\n",
       "  </thead>\n",
       "  <tbody>\n",
       "    <tr>\n",
       "      <th>886</th>\n",
       "      <td>887</td>\n",
       "      <td>0</td>\n",
       "      <td>2</td>\n",
       "      <td>Montvila, Rev. Juozas</td>\n",
       "      <td>male</td>\n",
       "      <td>27.0</td>\n",
       "      <td>0</td>\n",
       "      <td>0</td>\n",
       "      <td>211536</td>\n",
       "      <td>13.00</td>\n",
       "      <td>NaN</td>\n",
       "      <td>S</td>\n",
       "    </tr>\n",
       "    <tr>\n",
       "      <th>887</th>\n",
       "      <td>888</td>\n",
       "      <td>1</td>\n",
       "      <td>1</td>\n",
       "      <td>Graham, Miss. Margaret Edith</td>\n",
       "      <td>female</td>\n",
       "      <td>19.0</td>\n",
       "      <td>0</td>\n",
       "      <td>0</td>\n",
       "      <td>112053</td>\n",
       "      <td>30.00</td>\n",
       "      <td>B42</td>\n",
       "      <td>S</td>\n",
       "    </tr>\n",
       "    <tr>\n",
       "      <th>888</th>\n",
       "      <td>889</td>\n",
       "      <td>0</td>\n",
       "      <td>3</td>\n",
       "      <td>Johnston, Miss. Catherine Helen \"Carrie\"</td>\n",
       "      <td>female</td>\n",
       "      <td>NaN</td>\n",
       "      <td>1</td>\n",
       "      <td>2</td>\n",
       "      <td>W./C. 6607</td>\n",
       "      <td>23.45</td>\n",
       "      <td>NaN</td>\n",
       "      <td>S</td>\n",
       "    </tr>\n",
       "    <tr>\n",
       "      <th>889</th>\n",
       "      <td>890</td>\n",
       "      <td>1</td>\n",
       "      <td>1</td>\n",
       "      <td>Behr, Mr. Karl Howell</td>\n",
       "      <td>male</td>\n",
       "      <td>26.0</td>\n",
       "      <td>0</td>\n",
       "      <td>0</td>\n",
       "      <td>111369</td>\n",
       "      <td>30.00</td>\n",
       "      <td>C148</td>\n",
       "      <td>C</td>\n",
       "    </tr>\n",
       "    <tr>\n",
       "      <th>890</th>\n",
       "      <td>891</td>\n",
       "      <td>0</td>\n",
       "      <td>3</td>\n",
       "      <td>Dooley, Mr. Patrick</td>\n",
       "      <td>male</td>\n",
       "      <td>32.0</td>\n",
       "      <td>0</td>\n",
       "      <td>0</td>\n",
       "      <td>370376</td>\n",
       "      <td>7.75</td>\n",
       "      <td>NaN</td>\n",
       "      <td>Q</td>\n",
       "    </tr>\n",
       "  </tbody>\n",
       "</table>\n",
       "</div>"
      ],
      "text/plain": [
       "     PassengerId  Survived  Pclass                                      Name  \\\n",
       "886          887         0       2                     Montvila, Rev. Juozas   \n",
       "887          888         1       1              Graham, Miss. Margaret Edith   \n",
       "888          889         0       3  Johnston, Miss. Catherine Helen \"Carrie\"   \n",
       "889          890         1       1                     Behr, Mr. Karl Howell   \n",
       "890          891         0       3                       Dooley, Mr. Patrick   \n",
       "\n",
       "        Sex   Age  SibSp  Parch      Ticket   Fare Cabin Embarked  \n",
       "886    male  27.0      0      0      211536  13.00   NaN        S  \n",
       "887  female  19.0      0      0      112053  30.00   B42        S  \n",
       "888  female   NaN      1      2  W./C. 6607  23.45   NaN        S  \n",
       "889    male  26.0      0      0      111369  30.00  C148        C  \n",
       "890    male  32.0      0      0      370376   7.75   NaN        Q  "
      ]
     },
     "execution_count": 5,
     "metadata": {},
     "output_type": "execute_result"
    }
   ],
   "source": [
    "df.tail()"
   ]
  },
  {
   "cell_type": "code",
   "execution_count": 6,
   "id": "51a5d1bd-496b-48ec-be42-c90c620d24eb",
   "metadata": {},
   "outputs": [
    {
     "data": {
      "text/plain": [
       "PassengerId      0\n",
       "Survived         0\n",
       "Pclass           0\n",
       "Name             0\n",
       "Sex              0\n",
       "Age            177\n",
       "SibSp            0\n",
       "Parch            0\n",
       "Ticket           0\n",
       "Fare             0\n",
       "Cabin          687\n",
       "Embarked         2\n",
       "dtype: int64"
      ]
     },
     "execution_count": 6,
     "metadata": {},
     "output_type": "execute_result"
    }
   ],
   "source": [
    "df.isna().sum()"
   ]
  },
  {
   "cell_type": "code",
   "execution_count": 7,
   "id": "4bc01275-73cd-4e22-a8e1-73cdfbefedf1",
   "metadata": {},
   "outputs": [],
   "source": [
    "#cleaning the data\n",
    "def data_clean(df):\n",
    "    df.fillna(0,inplace = True) #zero imputation\n",
    "    print(df.isnull().sum())"
   ]
  },
  {
   "cell_type": "code",
   "execution_count": 8,
   "id": "030f8aa3-d1c3-4583-95cc-87ae1a278ef7",
   "metadata": {},
   "outputs": [
    {
     "name": "stdout",
     "output_type": "stream",
     "text": [
      "PassengerId    0\n",
      "Survived       0\n",
      "Pclass         0\n",
      "Name           0\n",
      "Sex            0\n",
      "Age            0\n",
      "SibSp          0\n",
      "Parch          0\n",
      "Ticket         0\n",
      "Fare           0\n",
      "Cabin          0\n",
      "Embarked       0\n",
      "dtype: int64\n"
     ]
    }
   ],
   "source": [
    "data_clean(df)"
   ]
  },
  {
   "cell_type": "code",
   "execution_count": 13,
   "id": "8a5c7a77-82fa-4d49-9a48-8160daa01990",
   "metadata": {},
   "outputs": [
    {
     "name": "stdout",
     "output_type": "stream",
     "text": [
      "0    22.0\n",
      "1    38.0\n",
      "2    26.0\n",
      "3    35.0\n",
      "4    35.0\n",
      "5     0.0\n",
      "6    54.0\n",
      "7     2.0\n",
      "8    27.0\n",
      "9    14.0\n",
      "Name: Age, dtype: float64\n"
     ]
    }
   ],
   "source": [
    "print(df['Age'].head(10)) "
   ]
  },
  {
   "cell_type": "code",
   "execution_count": 14,
   "id": "60e5892b-ee31-40b5-b682-7f3818ea0769",
   "metadata": {},
   "outputs": [
    {
     "name": "stdout",
     "output_type": "stream",
     "text": [
      "\n",
      "Number of missing 'Age' values: 0\n"
     ]
    }
   ],
   "source": [
    "#Check the number of missing values in the 'Age' column\n",
    "missing_age_count = df['Age'].isnull().sum()\n",
    "print(f\"\\nNumber of missing 'Age' values: {missing_age_count}\")"
   ]
  },
  {
   "cell_type": "code",
   "execution_count": 16,
   "id": "7feacc7d-1e14-4480-85d4-4bdfec67d639",
   "metadata": {},
   "outputs": [],
   "source": [
    "# Perform mean imputation on the 'Age' column\n",
    "# Get the mean of the 'Age' column, ignoring NaN values\n",
    "df['Age']= df['Age'].mean()\n",
    "df['Age'].fillna(df['Age'], inplace=True)"
   ]
  },
  {
   "cell_type": "code",
   "execution_count": 19,
   "id": "037b2f46-5427-4e27-8af1-69c29079dac7",
   "metadata": {},
   "outputs": [
    {
     "name": "stdout",
     "output_type": "stream",
     "text": [
      "0    23.799293\n",
      "1    23.799293\n",
      "2    23.799293\n",
      "3    23.799293\n",
      "4    23.799293\n",
      "5    23.799293\n",
      "6    23.799293\n",
      "7    23.799293\n",
      "8    23.799293\n",
      "9    23.799293\n",
      "Name: Age, dtype: float64\n"
     ]
    }
   ],
   "source": [
    "print(df['Age'].head(10)) # Print the first 10 values again to show the filled NaNs"
   ]
  },
  {
   "cell_type": "code",
   "execution_count": 20,
   "id": "b9d0bc68-7a76-4037-9394-61ad732340d8",
   "metadata": {},
   "outputs": [
    {
     "name": "stdout",
     "output_type": "stream",
     "text": [
      "\n",
      "Number of 'Age' values after imputation: 0\n"
     ]
    }
   ],
   "source": [
    "# Verify that there are no more missing values\n",
    "remaining_missing_age = df['Age'].isnull().sum()\n",
    "print(f\"\\nNumber of 'Age' values after imputation: {remaining_missing_age}\")"
   ]
  },
  {
   "cell_type": "code",
   "execution_count": 26,
   "id": "9b94102d-521d-42f7-83d1-755b25ed1e36",
   "metadata": {},
   "outputs": [
    {
     "name": "stdout",
     "output_type": "stream",
     "text": [
      "Original DataFrame (first 5 rows):\n",
      "      Sex Embarked\n",
      "0    male        S\n",
      "1  female        C\n",
      "2  female        S\n",
      "3  female        S\n",
      "4    male        S\n"
     ]
    }
   ],
   "source": [
    "#Changing categorical data into numerical data using encoding techniques\n",
    "print(\"Original DataFrame (first 5 rows):\")\n",
    "print(df[['Sex', 'Embarked']].head())"
   ]
  },
  {
   "cell_type": "code",
   "execution_count": 23,
   "id": "941b1b6e-ee27-4130-9b81-4197fb3a4af2",
   "metadata": {},
   "outputs": [],
   "source": [
    "# Select categorical features for encoding\n",
    "categorical_features = ['Sex', 'Embarked']"
   ]
  },
  {
   "cell_type": "code",
   "execution_count": 24,
   "id": "88a1203f-18c4-4ff0-8cc4-42c16d5e9757",
   "metadata": {},
   "outputs": [],
   "source": [
    "# Apply One-Hot Encoding\n",
    "df_encoded = pd.get_dummies(df, columns=categorical_features, drop_first=True)\n",
    "\n",
    "# The 'drop_first=True' argument is used to avoid multicollinearity.\n",
    "# For 'Sex', it creates one column 'Sex_male'. '1' means male, '0' means female.\n",
    "# For 'Embarked', it creates 'Embarked_Q' and 'Embarked_S'. '0,0' means 'C'."
   ]
  },
  {
   "cell_type": "code",
   "execution_count": 25,
   "id": "19f5c92c-6562-4ed7-9aae-c03ada01bc56",
   "metadata": {},
   "outputs": [
    {
     "name": "stdout",
     "output_type": "stream",
     "text": [
      "\n",
      "DataFrame after One-Hot Encoding (first 5 rows):\n",
      "   Sex_male  Embarked_Q  Embarked_S\n",
      "0      True       False        True\n",
      "1     False       False       False\n",
      "2     False       False        True\n",
      "3     False       False        True\n",
      "4      True       False        True\n"
     ]
    }
   ],
   "source": [
    "print(\"\\nDataFrame after One-Hot Encoding (first 5 rows):\")\n",
    "print(df_encoded[['Sex_male', 'Embarked_Q', 'Embarked_S']].head())"
   ]
  },
  {
   "cell_type": "code",
   "execution_count": 27,
   "id": "97363f8f-d798-4489-b621-4abea308ef50",
   "metadata": {},
   "outputs": [],
   "source": [
    "#Normalize/standardize numerical features\n",
    "# Drop rows with missing values for 'Age' and 'Fare' to simplify the example\n",
    "# In a real-world scenario,we would handle missing values first (e.g., with imputation)\n",
    "df.dropna(subset=['Age', 'Fare'], inplace=True)"
   ]
  },
  {
   "cell_type": "code",
   "execution_count": 28,
   "id": "146bc4d2-def6-4a48-8c9f-5f9fc29db79b",
   "metadata": {},
   "outputs": [],
   "source": [
    "# Selecting the numerical features to be scaled\n",
    "numerical_features = ['Age', 'Fare']\n",
    "data_to_scale = df[numerical_features]"
   ]
  },
  {
   "cell_type": "code",
   "execution_count": 29,
   "id": "d8708f33-e38a-4305-acdf-bc437dee6c80",
   "metadata": {},
   "outputs": [
    {
     "name": "stdout",
     "output_type": "stream",
     "text": [
      "Original 'Age' and 'Fare' values (first 5 rows):\n",
      "         Age     Fare\n",
      "0  23.799293   7.2500\n",
      "1  23.799293  71.2833\n",
      "2  23.799293   7.9250\n",
      "3  23.799293  53.1000\n",
      "4  23.799293   8.0500\n"
     ]
    }
   ],
   "source": [
    "print(\"Original 'Age' and 'Fare' values (first 5 rows):\")\n",
    "print(data_to_scale.head())"
   ]
  },
  {
   "cell_type": "code",
   "execution_count": 31,
   "id": "19fcec08-6475-45a7-bef2-c2874719e8af",
   "metadata": {},
   "outputs": [],
   "source": [
    "# Create a StandardScaler object\n",
    "from sklearn.preprocessing import StandardScaler\n",
    "scaler = StandardScaler()\n",
    "\n",
    "# Fit the scaler to the data and transform it\n",
    "scaled_data = scaler.fit_transform(data_to_scale)"
   ]
  },
  {
   "cell_type": "code",
   "execution_count": 32,
   "id": "047c0029-f758-4e07-8b07-7d7fe25be118",
   "metadata": {},
   "outputs": [],
   "source": [
    "# Convert the scaled data back to a DataFrame for better readability\n",
    "scaled_df = pd.DataFrame(scaled_data, columns=numerical_features)"
   ]
  },
  {
   "cell_type": "code",
   "execution_count": 33,
   "id": "a7f5eeae-c4f8-48f2-bc4f-25a23a567d59",
   "metadata": {},
   "outputs": [
    {
     "name": "stdout",
     "output_type": "stream",
     "text": [
      "\n",
      "Scaled 'Age' and 'Fare' values (first 5 rows):\n",
      "            Age      Fare\n",
      "0  3.552714e-15 -0.502445\n",
      "1  3.552714e-15  0.786845\n",
      "2  3.552714e-15 -0.488854\n",
      "3  3.552714e-15  0.420730\n",
      "4  3.552714e-15 -0.486337\n"
     ]
    }
   ],
   "source": [
    "print(\"\\nScaled 'Age' and 'Fare' values (first 5 rows):\")\n",
    "print(scaled_df.head())"
   ]
  },
  {
   "cell_type": "code",
   "execution_count": 34,
   "id": "e02b43cd-3347-4399-a9cc-d7cb57bdccd3",
   "metadata": {},
   "outputs": [
    {
     "name": "stdout",
     "output_type": "stream",
     "text": [
      "\n",
      "Mean of scaled 'Age': 3.552713678800501e-15\n",
      "Standard deviation of scaled 'Age': 0.0\n",
      "Mean of scaled 'Fare': 3.987332972840069e-18\n",
      "Standard deviation of scaled 'Fare': 1.0005616400330462\n"
     ]
    }
   ],
   "source": [
    "# Print the mean and standard deviation of the scaled data to verify\n",
    "print(\"\\nMean of scaled 'Age':\", scaled_df['Age'].mean())\n",
    "print(\"Standard deviation of scaled 'Age':\", scaled_df['Age'].std())\n",
    "print(\"Mean of scaled 'Fare':\", scaled_df['Fare'].mean())\n",
    "print(\"Standard deviation of scaled 'Fare':\", scaled_df['Fare'].std())"
   ]
  },
  {
   "cell_type": "code",
   "execution_count": 35,
   "id": "8641c1cc-70d7-494e-811f-0fc5214db355",
   "metadata": {},
   "outputs": [
    {
     "data": {
      "image/png": "[encoded data removed]",
      "text/plain": [
       "<Figure size 1000x600 with 1 Axes>"
      ]
     },
     "metadata": {},
     "output_type": "display_data"
    }
   ],
   "source": [
    "# Visualize outliers with a box plot\n",
    "plt.figure(figsize=(10, 6))\n",
    "plt.boxplot(df['Fare'])\n",
    "plt.title('Box plot of Fare with outliers')\n",
    "plt.ylabel('Fare')\n",
    "plt.show()"
   ]
  },
  {
   "cell_type": "code",
   "execution_count": 36,
   "id": "cf7ffb3c-2f06-4177-8595-18e66062b823",
   "metadata": {},
   "outputs": [],
   "source": [
    "# Calculate the IQR to define outlier boundaries\n",
    "Q1 = df['Fare'].quantile(0.25)\n",
    "Q3 = df['Fare'].quantile(0.75)\n",
    "IQR = Q3 - Q1\n",
    "# Define the upper and lower bounds for outliers\n",
    "lower_bound = Q1 - 1.5 * IQR\n",
    "upper_bound = Q3 + 1.5 * IQR\n",
    "# Remove outliers\n",
    "df_no_outliers = df[(df['Fare'] >= lower_bound) & (df['Fare'] <= upper_bound)]"
   ]
  },
  {
   "cell_type": "code",
   "execution_count": 37,
   "id": "4af97e59-e133-4005-ba35-b1b300591be7",
   "metadata": {},
   "outputs": [
    {
     "data": {
      "image/png": "[encoded data removed]",
      "text/plain": [
       "<Figure size 1000x600 with 1 Axes>"
      ]
     },
     "metadata": {},
     "output_type": "display_data"
    }
   ],
   "source": [
    "# Visualize the data after outlier removal\n",
    "plt.figure(figsize=(10, 6))\n",
    "plt.boxplot(df_no_outliers['Fare'])\n",
    "plt.title('Box plot of Fare without outliers')\n",
    "plt.ylabel('Fare')\n",
    "plt.show()"
   ]
  },
  {
   "cell_type": "code",
   "execution_count": 38,
   "id": "3007667e-3a5f-4ff7-aac5-db51d860ac61",
   "metadata": {},
   "outputs": [
    {
     "name": "stdout",
     "output_type": "stream",
     "text": [
      "Original number of rows: 891\n",
      "Number of rows after outlier removal: 775\n"
     ]
    }
   ],
   "source": [
    "# Print the number of rows before and after outlier removal\n",
    "print(f\"Original number of rows: {len(df)}\")\n",
    "print(f\"Number of rows after outlier removal: {len(df_no_outliers)}\")"
   ]
  },
  {
   "cell_type": "code",
   "execution_count": null,
   "id": "c9033dcc-f585-435b-9cbb-4d6c54b0475a",
   "metadata": {},
   "outputs": [],
   "source": []
  },
  {
   "cell_type": "code",
   "execution_count": null,
   "id": "e4a16cd6-4a01-4a38-ad5d-759189cc116d",
   "metadata": {},
   "outputs": [],
   "source": []
  }
 ],
 "metadata": {
  "kernelspec": {
   "display_name": "Python 3 (ipykernel)",
   "language": "python",
   "name": "python3"
  },
  "language_info": {
   "codemirror_mode": {
    "name": "ipython",
    "version": 3
   },
   "file_extension": ".py",
   "mimetype": "text/x-python",
   "name": "python",
   "nbconvert_exporter": "python",
   "pygments_lexer": "ipython3",
   "version": "3.13.5"
  }
 },
 "nbformat": 4,
 "nbformat_minor": 5
}
